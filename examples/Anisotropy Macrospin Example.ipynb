{
 "metadata": {
  "name": "",
  "signature": "sha256:9033c2b6d2fafd3d9298a7c66694aa747d56ddac12878db7c16eb7c0c4106ff9"
 },
 "nbformat": 3,
 "nbformat_minor": 0,
 "worksheets": [
  {
   "cells": [
    {
     "cell_type": "markdown",
     "metadata": {},
     "source": [
      "# Anisotropy Macrospin Example #\n",
      "Author: Colin Jermain\n"
     ]
    },
    {
     "cell_type": "code",
     "collapsed": false,
     "input": [
      "%matplotlib qt\n",
      "from matplotlib import pyplot as plt\n",
      "from macrospin import plot"
     ],
     "language": "python",
     "metadata": {},
     "outputs": [],
     "prompt_number": 1
    },
    {
     "cell_type": "code",
     "collapsed": false,
     "input": [
      "from macrospin import demag\n",
      "\n",
      "length = 200e-7 # cm - major axis\n",
      "width = 100e-7 # cm - minor axis\n",
      "height = 5e-7 # cm - height\n",
      "\n",
      "Nx, Ny, Nz = demag.cylinder(length, width, height, cgs=True)\n",
      "Nx, Ny, Nz"
     ],
     "language": "python",
     "metadata": {},
     "outputs": [
      {
       "metadata": {},
       "output_type": "pyout",
       "prompt_number": 2,
       "text": [
        "(0.35101843956248724, 0.9185401975596108, 11.296811977237075)"
       ]
      }
     ],
     "prompt_number": 2
    },
    {
     "cell_type": "code",
     "collapsed": false,
     "input": [
      "from macrospin.parameters import CgsParameters\n",
      "from macrospin.kernels import AnisotropyKernel\n",
      "\n",
      "parameters = CgsParameters({\n",
      "    'Ms': 140, # Saturation Magnetization (emu/cc)\n",
      "    'dt': 5e-13, # Timestep (sec)\n",
      "    'damping': 0.01, # Gilbert damping\n",
      "    'Hext': [0., 1e3, 0.], # External field (Oe)\n",
      "    'm0': [-0.999, 0.001, 0.001], # Initial moment (normalized)\n",
      "    'Nd': [Nx, Ny, Nz], # Demag tensor diagonals\n",
      "    'u': [0, 0, 1], # Uniaxial anisotropy unit vector along z axis\n",
      "    'Ku1': 40, # 1st Uniaxial Anisotropy energy (erg/cc)\n",
      "    'Ku2': 1, # 2nd Uniaxial Anisotropy energy (erg/cc)\n",
      "})\n",
      "\n",
      "kernel = AnisotropyKernel(parameters)"
     ],
     "language": "python",
     "metadata": {},
     "outputs": [],
     "prompt_number": 3
    },
    {
     "cell_type": "code",
     "collapsed": false,
     "input": [
      "times, moments = kernel.run(time=1e-7, internal_steps=10)"
     ],
     "language": "python",
     "metadata": {},
     "outputs": [],
     "prompt_number": 4
    },
    {
     "cell_type": "code",
     "collapsed": false,
     "input": [
      "plot.moment_time_domain(times, moments)\n",
      "plt.show()"
     ],
     "language": "python",
     "metadata": {},
     "outputs": [],
     "prompt_number": 5
    },
    {
     "cell_type": "code",
     "collapsed": false,
     "input": [
      "ax = plot.moment_3d(moments)\n",
      "plt.show()"
     ],
     "language": "python",
     "metadata": {},
     "outputs": [],
     "prompt_number": 6
    },
    {
     "cell_type": "code",
     "collapsed": false,
     "input": [],
     "language": "python",
     "metadata": {},
     "outputs": []
    }
   ],
   "metadata": {}
  }
 ]
}