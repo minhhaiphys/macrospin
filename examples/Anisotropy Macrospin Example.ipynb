{
 "metadata": {
  "name": "",
  "signature": "sha256:f242de012d42bc2afaaf9323ca2d4c9a2c8308856e8098d259d72cafae4133eb"
 },
 "nbformat": 3,
 "nbformat_minor": 0,
 "worksheets": [
  {
   "cells": [
    {
     "cell_type": "markdown",
     "metadata": {},
     "source": [
      "# Anisotropy Macrospin Example #\n",
      "Author: Colin Jermain <clj72@cornell.edu>\n"
     ]
    },
    {
     "cell_type": "code",
     "collapsed": false,
     "input": [
      "%matplotlib inline\n",
      "from matplotlib import pyplot as plt"
     ],
     "language": "python",
     "metadata": {},
     "outputs": [],
     "prompt_number": 1
    },
    {
     "cell_type": "code",
     "collapsed": false,
     "input": [
      "from macrospin.parameters import CgsParameters\n",
      "from macrospin.kernels import AnisotropyKernel\n",
      "from macrospin import demag\n",
      "\n",
      "Nx, Ny, Nz = demag.cylinder(1e-7, 2e-7, 10e-9, cgs=True)\n",
      "\n",
      "parameters = CgsParameters({\n",
      "    'Ms': 140, # Saturation Magnetization (emu/cc)\n",
      "    'dt': 5e-13, # Timestep (sec)\n",
      "    'damping': 0.01, # Gilbert damping\n",
      "    'Hext': [0., 1e3, 0.], # External field (Oe)\n",
      "    'm0': [-0.999, 0.001, 0.001], # Initial moment (normalized)\n",
      "    'Nd': [Nx, Ny, Nz], # Demag tensor diagonals\n",
      "    'eu': [0, 0, 1], # Uniaxial anisotropy unit vector along z axis\n",
      "    'Ku1': 40, # 1st Uniaxial Anisotropy energy (erg/cc)\n",
      "    'Ku2': 1, # 2nd Uniaxial Anisotropy energy (erg/cc)\n",
      "})"
     ],
     "language": "python",
     "metadata": {},
     "outputs": [
      {
       "output_type": "stream",
       "stream": "stderr",
       "text": [
        "/home/colin/.venv/lib/python2.7/site-packages/macrospin/demag.py:23: RuntimeWarning: invalid value encountered in sqrt\n",
        "  eps = np.sqrt(1.0 - beta**2)\n",
        "/home/colin/.venv/lib/python2.7/site-packages/scipy/integrate/quadpack.py:321: IntegrationWarning: The occurrence of roundoff error is detected, which prevents \n",
        "  the requested tolerance from being achieved.  The error may be \n",
        "  underestimated.\n",
        "  warnings.warn(msg, IntegrationWarning)\n"
       ]
      }
     ],
     "prompt_number": 2
    },
    {
     "cell_type": "code",
     "collapsed": false,
     "input": [
      "parameters"
     ],
     "language": "python",
     "metadata": {},
     "outputs": [
      {
       "metadata": {},
       "output_type": "pyout",
       "prompt_number": 3,
       "text": [
        "{'Hext': [0.0, 1000.0, 0.0],\n",
        " 'Ku1': 40,\n",
        " 'Ku2': 1,\n",
        " 'Ms': 140,\n",
        " 'Nd': [nan, nan, nan],\n",
        " 'damping': 0.01,\n",
        " 'dt': 5e-13,\n",
        " 'eu': [0, 0, 1],\n",
        " 'm0': [-0.999, 0.001, 0.001]}"
       ]
      }
     ],
     "prompt_number": 3
    },
    {
     "cell_type": "code",
     "collapsed": false,
     "input": [
      "kernel = AnisotropyKernel(parameters)"
     ],
     "language": "python",
     "metadata": {},
     "outputs": []
    },
    {
     "cell_type": "code",
     "collapsed": false,
     "input": [
      "times1, moments1 = kernel.run(time=1e-7)\n",
      "plt.plot(times1, moments1[:,0], label='x')\n",
      "plt.plot(times1, moments1[:,1], label='y')\n",
      "plt.plot(times1, moments1[:,2], label='z')\n",
      "plt.ylim(-1.1, 1.1)\n",
      "plt.ylabel(\"M/Ms\")\n",
      "plt.xlabel(\"Time (sec)\")\n",
      "plt.legend()\n",
      "plt.show()"
     ],
     "language": "python",
     "metadata": {},
     "outputs": [
      {
       "ename": "TypeError",
       "evalue": "'list' does not have the buffer interface",
       "output_type": "pyerr",
       "traceback": [
        "\u001b[1;31m---------------------------------------------------------------------------\u001b[0m\n\u001b[1;31mTypeError\u001b[0m                                 Traceback (most recent call last)",
        "\u001b[1;32m<ipython-input-7-5b319e9ecf0b>\u001b[0m in \u001b[0;36m<module>\u001b[1;34m()\u001b[0m\n\u001b[1;32m----> 1\u001b[1;33m \u001b[0mtimes1\u001b[0m\u001b[1;33m,\u001b[0m \u001b[0mmoments1\u001b[0m \u001b[1;33m=\u001b[0m \u001b[0mkernel\u001b[0m\u001b[1;33m.\u001b[0m\u001b[0mrun\u001b[0m\u001b[1;33m(\u001b[0m\u001b[0mtime\u001b[0m\u001b[1;33m=\u001b[0m\u001b[1;36m1e-7\u001b[0m\u001b[1;33m)\u001b[0m\u001b[1;33m\u001b[0m\u001b[0m\n\u001b[0m\u001b[0;32m      2\u001b[0m \u001b[0mplt\u001b[0m\u001b[1;33m.\u001b[0m\u001b[0mplot\u001b[0m\u001b[1;33m(\u001b[0m\u001b[0mtimes1\u001b[0m\u001b[1;33m,\u001b[0m \u001b[0mmoments1\u001b[0m\u001b[1;33m[\u001b[0m\u001b[1;33m:\u001b[0m\u001b[1;33m,\u001b[0m\u001b[1;36m0\u001b[0m\u001b[1;33m]\u001b[0m\u001b[1;33m,\u001b[0m \u001b[0mlabel\u001b[0m\u001b[1;33m=\u001b[0m\u001b[1;34m'x'\u001b[0m\u001b[1;33m)\u001b[0m\u001b[1;33m\u001b[0m\u001b[0m\n\u001b[0;32m      3\u001b[0m \u001b[0mplt\u001b[0m\u001b[1;33m.\u001b[0m\u001b[0mplot\u001b[0m\u001b[1;33m(\u001b[0m\u001b[0mtimes1\u001b[0m\u001b[1;33m,\u001b[0m \u001b[0mmoments1\u001b[0m\u001b[1;33m[\u001b[0m\u001b[1;33m:\u001b[0m\u001b[1;33m,\u001b[0m\u001b[1;36m1\u001b[0m\u001b[1;33m]\u001b[0m\u001b[1;33m,\u001b[0m \u001b[0mlabel\u001b[0m\u001b[1;33m=\u001b[0m\u001b[1;34m'y'\u001b[0m\u001b[1;33m)\u001b[0m\u001b[1;33m\u001b[0m\u001b[0m\n\u001b[0;32m      4\u001b[0m \u001b[0mplt\u001b[0m\u001b[1;33m.\u001b[0m\u001b[0mplot\u001b[0m\u001b[1;33m(\u001b[0m\u001b[0mtimes1\u001b[0m\u001b[1;33m,\u001b[0m \u001b[0mmoments1\u001b[0m\u001b[1;33m[\u001b[0m\u001b[1;33m:\u001b[0m\u001b[1;33m,\u001b[0m\u001b[1;36m2\u001b[0m\u001b[1;33m]\u001b[0m\u001b[1;33m,\u001b[0m \u001b[0mlabel\u001b[0m\u001b[1;33m=\u001b[0m\u001b[1;34m'z'\u001b[0m\u001b[1;33m)\u001b[0m\u001b[1;33m\u001b[0m\u001b[0m\n\u001b[0;32m      5\u001b[0m \u001b[0mplt\u001b[0m\u001b[1;33m.\u001b[0m\u001b[0mylim\u001b[0m\u001b[1;33m(\u001b[0m\u001b[1;33m-\u001b[0m\u001b[1;36m1.1\u001b[0m\u001b[1;33m,\u001b[0m \u001b[1;36m1.1\u001b[0m\u001b[1;33m)\u001b[0m\u001b[1;33m\u001b[0m\u001b[0m\n",
        "\u001b[1;32m/home/colin/.venv/lib/python2.7/site-packages/macrospin/kernels.so\u001b[0m in \u001b[0;36mmacrospin.kernels.Kernel.run (macrospin/kernels.cpp:2434)\u001b[1;34m()\u001b[0m\n",
        "\u001b[1;32m/home/colin/.venv/lib/python2.7/site-packages/macrospin/kernels.so\u001b[0m in \u001b[0;36mmacrospin.kernels.AnisotropyKernel.evolve (macrospin/kernels.cpp:3992)\u001b[1;34m()\u001b[0m\n",
        "\u001b[1;32m/home/colin/.venv/lib/python2.7/site-packages/macrospin/kernels.so\u001b[0m in \u001b[0;36mView.MemoryView.memoryview_cwrapper (macrospin/kernels.cpp:11689)\u001b[1;34m()\u001b[0m\n",
        "\u001b[1;32m/home/colin/.venv/lib/python2.7/site-packages/macrospin/kernels.so\u001b[0m in \u001b[0;36mView.MemoryView.memoryview.__cinit__ (macrospin/kernels.cpp:8235)\u001b[1;34m()\u001b[0m\n",
        "\u001b[1;31mTypeError\u001b[0m: 'list' does not have the buffer interface"
       ]
      }
     ],
     "prompt_number": 7
    },
    {
     "cell_type": "markdown",
     "metadata": {},
     "source": [
      "The moment is seen to rotate to point along the $\\hat{y}$ direction of the external field as expected."
     ]
    },
    {
     "cell_type": "markdown",
     "metadata": {},
     "source": [
      "## Continuing the simulation ##\n",
      "The kernel can continue where it left off. Below, the kernel is run for another 100 ns and plotted."
     ]
    },
    {
     "cell_type": "code",
     "collapsed": false,
     "input": [
      "times2, moments2 = kernel.run(time=1e-7)\n",
      "plt.plot(times2, moments2[:,0], label='x')\n",
      "plt.plot(times2, moments2[:,1], label='y')\n",
      "plt.plot(times2, moments2[:,2], label='z')\n",
      "plt.ylim(-1.1, 1.1)\n",
      "plt.ylabel(\"M/Ms\")\n",
      "plt.xlabel(\"Time (sec)\")\n",
      "plt.legend()\n",
      "plt.show()"
     ],
     "language": "python",
     "metadata": {},
     "outputs": [
      {
       "metadata": {},
       "output_type": "display_data",
       "png": "[encoded data removed]",
       "text": [
        "<matplotlib.figure.Figure at 0x7fa0579802d0>"
       ]
      }
     ],
     "prompt_number": 4
    },
    {
     "cell_type": "markdown",
     "metadata": {},
     "source": [
      "Since the moment has been stable since roughly 50 ns, the orientation does not change."
     ]
    },
    {
     "cell_type": "markdown",
     "metadata": {},
     "source": [
      "## Resetting the kernel ##\n",
      "The kernel can be reset to use its initial conditions with the `reset` method. The simulations are re-started from $t=0$."
     ]
    },
    {
     "cell_type": "code",
     "collapsed": false,
     "input": [
      "kernel.reset()\n",
      "times3, moments3 = kernel.run(time=1e-6)\n",
      "plt.plot(times3, moments3[:,0], label='x')\n",
      "plt.plot(times3, moments3[:,1], label='y')\n",
      "plt.plot(times3, moments3[:,2], label='z')\n",
      "plt.ylim(-1.1, 1.1)\n",
      "plt.ylabel(\"M/Ms\")\n",
      "plt.xlabel(\"Time (sec)\")\n",
      "plt.legend()\n",
      "plt.show()"
     ],
     "language": "python",
     "metadata": {},
     "outputs": [
      {
       "metadata": {},
       "output_type": "display_data",
       "png": "[encoded data removed]",
       "text": [
        "<matplotlib.figure.Figure at 0x7fe5c7016c90>"
       ]
      }
     ],
     "prompt_number": 8
    },
    {
     "cell_type": "markdown",
     "metadata": {},
     "source": [
      "## Running the stabilize method ##\n",
      "When the moment orientation in equilibrium is of more interest than the time dependent behavior of the moment, the `stabilize` method can be used to run the simulation until the orientation has stabilized. Stability is measured by the magnitude of the cross product of the moment with a previous moment, `internal_steps` (usually 250) timesteps behind the current moment. The default threshold is `5e-3`, which has been found experimentally to work well."
     ]
    },
    {
     "cell_type": "code",
     "collapsed": false,
     "input": [
      "kernel.reset()\n",
      "kernel.stabilize(threshold=5e-3)"
     ],
     "language": "python",
     "metadata": {},
     "outputs": [],
     "prompt_number": 6
    },
    {
     "cell_type": "code",
     "collapsed": false,
     "input": [
      "kernel.m"
     ],
     "language": "python",
     "metadata": {},
     "outputs": [
      {
       "metadata": {},
       "output_type": "pyout",
       "prompt_number": 7,
       "text": [
        "array([ -2.60092388e-03,   9.99996364e-01,  -7.17876654e-04], dtype=float32)"
       ]
      }
     ],
     "prompt_number": 7
    },
    {
     "cell_type": "markdown",
     "metadata": {},
     "source": [
      "The kernel moment is observed to point along the $\\hat{y}$ direction."
     ]
    },
    {
     "cell_type": "code",
     "collapsed": false,
     "input": [
      "kernel.t_sec"
     ],
     "language": "python",
     "metadata": {},
     "outputs": [
      {
       "metadata": {},
       "output_type": "pyout",
       "prompt_number": 8,
       "text": [
        "6.22499974048702e-08"
       ]
      }
     ],
     "prompt_number": 8
    },
    {
     "cell_type": "markdown",
     "metadata": {},
     "source": [
      "Stability has been achieved at $t=62.2$ ns."
     ]
    },
    {
     "cell_type": "code",
     "collapsed": false,
     "input": [],
     "language": "python",
     "metadata": {},
     "outputs": [],
     "prompt_number": 8
    }
   ],
   "metadata": {}
  }
 ]
}