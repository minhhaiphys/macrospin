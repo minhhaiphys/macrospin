{
 "metadata": {
  "name": "",
  "signature": "sha256:fbe00201efa203e6afa90aa78aa46faced26537e9387a569583f6f9bb7abb3f8"
 },
 "nbformat": 3,
 "nbformat_minor": 0,
 "worksheets": [
  {
   "cells": [
    {
     "cell_type": "code",
     "collapsed": false,
     "input": [
      "%matplotlib inline\n",
      "from macrospin import *\n",
      "from macrospin import crystal, demag, energy, normalize, plot\n",
      "import numpy as np\n",
      "from __future__ import division\n",
      "\n",
      "from mpl_toolkits.mplot3d import Axes3D, proj3d  \n",
      "from matplotlib import rcParams\n",
      "from matplotlib import pylab as plt\n",
      "\n",
      "rcParams['font.size'] = 16"
     ],
     "language": "python",
     "metadata": {},
     "outputs": [],
     "prompt_number": 1
    },
    {
     "cell_type": "markdown",
     "metadata": {},
     "source": [
      "# Crystal orientation #\n",
      "\n",
      "Author: Colin Jermain <clj72@cornell.edu>\n",
      "\n",
      "The `marcrospin` python package has functionality for evalutating and understanding crystal orientations and their corresponding vectors. This is housed in the `crystal` sub-package. Linear algebra operations preformed by `crystal` rely heavily on their efficient implimentation in the  `numpy` package. This notebook will illustrate the use of the `crystal` functions.\n",
      "\n",
      "Currently the crystal axes have only been tested to support the 3 Miller indices $[lmn]$ of the cubic system."
     ]
    },
    {
     "cell_type": "code",
     "collapsed": false,
     "input": [
      "l,m,n = crystal.l, crystal.m, crystal.n\n",
      "print l,m,n"
     ],
     "language": "python",
     "metadata": {},
     "outputs": [
      {
       "output_type": "stream",
       "stream": "stdout",
       "text": [
        "[1 0 0] [0 1 0] [0 0 1]\n"
       ]
      }
     ],
     "prompt_number": 2
    },
    {
     "cell_type": "markdown",
     "metadata": {},
     "source": [
      "The method for using these crystal axes to map between the Cartesian coordinates of a device geometry will be illustrated in the case of two crystal surface, the $(110)$ and $(111)$.\n",
      "\n",
      "## Constructing the (110) Surface ##\n",
      "\n",
      "The in-plane oriented vectors of the $(110)$ surface can be generated automatically."
     ]
    },
    {
     "cell_type": "code",
     "collapsed": false,
     "input": [
      "z = normalize(np.array([1,1,0]))\n",
      "in_plane_indices = crystal.in_plane_indices(z, magnitude=1)\n",
      "print in_plane_indices"
     ],
     "language": "python",
     "metadata": {},
     "outputs": [
      {
       "output_type": "stream",
       "stream": "stdout",
       "text": [
        "[[-1  1 -1]\n",
        " [-1  1  0]\n",
        " [-1  1  1]\n",
        " [ 0  0 -1]\n",
        " [ 0  0  1]\n",
        " [ 1 -1 -1]\n",
        " [ 1 -1  0]\n",
        " [ 1 -1  1]]\n"
       ]
      }
     ],
     "prompt_number": 3
    },
    {
     "cell_type": "markdown",
     "metadata": {},
     "source": [
      "The above array holds a list of Miller indices for vectors that point in the plane. The maximum magnitude of the Miller indices that are searched through is specified by the `magnitude` argument.\n",
      "\n",
      "These vectors can be visualized by first normalizing the array."
     ]
    },
    {
     "cell_type": "code",
     "collapsed": false,
     "input": [
      "in_plane_normals = normalize(in_plane_indices)\n",
      "print in_plane_normals"
     ],
     "language": "python",
     "metadata": {},
     "outputs": [
      {
       "output_type": "stream",
       "stream": "stdout",
       "text": [
        "[[-0.57735027  0.57735027 -0.57735027]\n",
        " [-0.70710678  0.70710678  0.        ]\n",
        " [-0.57735027  0.57735027  0.57735027]\n",
        " [ 0.          0.         -1.        ]\n",
        " [ 0.          0.          1.        ]\n",
        " [ 0.57735027 -0.57735027 -0.57735027]\n",
        " [ 0.70710678 -0.70710678  0.        ]\n",
        " [ 0.57735027 -0.57735027  0.57735027]]\n"
       ]
      }
     ],
     "prompt_number": 4
    },
    {
     "cell_type": "code",
     "collapsed": false,
     "input": [
      "fig, ax = plt.subplots()\n",
      "for vector, indices in zip(in_plane_normals, in_plane_indices):\n",
      "    loc = (0.5*l.dot(vector)+0.5, 0.5*n.dot(vector)+0.5)\n",
      "    ax.annotate(crystal.miller_indices_display(indices), \n",
      "            xy=loc, xycoords='axes fraction', fontsize=16,\n",
      "            horizontalalignment='center', verticalalignment='bottom')\n",
      "    ax.quiver(0,0,l.dot(vector),n.dot(vector),angles='xy',\n",
      "            scale_units='xy',scale=1, color='r')\n",
      "ax.set_xlim([-1,1])\n",
      "ax.set_ylim([-1,1])\n",
      "ax.axis('off')\n",
      "plt.draw()\n",
      "plt.show()"
     ],
     "language": "python",
     "metadata": {},
     "outputs": [
      {
       "metadata": {},
       "output_type": "display_data",
       "png": "[encoded data removed]",
       "text": [
        "<matplotlib.figure.Figure at 0x7f681b9216d0>"
       ]
      }
     ],
     "prompt_number": 7
    },
    {
     "cell_type": "markdown",
     "metadata": {},
     "source": [
      "The above figure illustrates the crystal directions in the $(110)$ plane. This can also be visualized in 3D."
     ]
    },
    {
     "cell_type": "code",
     "collapsed": false,
     "input": [
      "figure = plt.figure()\n",
      "ax = figure.gca(projection='3d')\n",
      "ax.set_aspect(\"equal\")\n",
      "ax.view_init(elev=25, azim=0)\n",
      "ax.set_ylim(-1.25,1.25)\n",
      "ax.set_xlim(-1.25,1.25)\n",
      "ax.set_zlim(-1.25,1.25)\n",
      "ax.axis('off')\n",
      "\n",
      "def plot_surface(figure, normal, point=np.array([0,0,0])):\n",
      "    # TODO: Add functionality for other directions\n",
      "    d = -point.dot(normal)\n",
      "    \n",
      "    r = np.linspace(-1, 1, num=10)\n",
      "    yy, zz = np.meshgrid(r, r)\n",
      "    xx = (-normal[2] * zz - normal[1] * yy - d) * 1. /normal[0]\n",
      "    \n",
      "    ax = figure.gca(projection='3d')\n",
      "    ax.plot_surface(xx, yy, zz, alpha=0.1)\n",
      "\n",
      "plot_surface(figure, z)\n",
      "plot.unit_square(figure)\n",
      "plot.unit_vectors(figure, in_plane_normals, color='r')\n",
      "plt.show()"
     ],
     "language": "python",
     "metadata": {},
     "outputs": [
      {
       "metadata": {},
       "output_type": "display_data",
       "text": [
        "<matplotlib.figure.Figure at 0x7f681b66b290>"
       ]
      }
     ],
     "prompt_number": 11
    },
    {
     "cell_type": "markdown",
     "metadata": {},
     "source": [
      "The above figure illustrates the (red) in-plane unit vectors with respect to the (light blue) $(110)$ surface and the (blue) crystal structure.\n",
      "\n",
      "### Transformation matrix ###\n",
      "\n",
      "Mapping from the crystal axes in Miller indices to Cartesian coordinates is preformed with a transformation matrix [(Stancil & Prabhakar, 2009)](http://dx.doi.org/10.1007/978-0-387-77865-5). The transformation must be an orthogonal matrix to preserve normalization, which can be constructed from an orthogonal basis set.\n",
      "\n",
      "Consider the $\\hat{x}$ direction to be along $[1\\bar{1}1]$ and $\\hat{z}$ direction to be normal to the surface."
     ]
    },
    {
     "cell_type": "code",
     "collapsed": false,
     "input": [
      "x = normalize(np.array([1,-1,1]))\n",
      "y = np.cross(z, x)"
     ],
     "language": "python",
     "metadata": {},
     "outputs": [],
     "prompt_number": 12
    },
    {
     "cell_type": "code",
     "collapsed": false,
     "input": [
      "figure = plt.figure()\n",
      "ax = figure.gca(projection='3d')\n",
      "ax.set_aspect(\"equal\")\n",
      "ax.view_init(elev=50, azim=60)\n",
      "ax.set_ylim(-1.25,1.25)\n",
      "ax.set_xlim(-1.25,1.25)\n",
      "ax.set_zlim(-1.25,1.25)\n",
      "ax.axis('off')\n",
      "\n",
      "plot_surface(figure, z)\n",
      "plot.unit_square(figure)\n",
      "plot.unit_vectors(figure, np.array([x,y,z]))\n",
      "plot.unit_vectors(figure, np.array([l,m,n]), color='k')\n",
      "plt.show()"
     ],
     "language": "python",
     "metadata": {},
     "outputs": [
      {
       "metadata": {},
       "output_type": "display_data",
       "text": [
        "<matplotlib.figure.Figure at 0x7f681b6a5190>"
       ]
      }
     ],
     "prompt_number": 15
    },
    {
     "cell_type": "markdown",
     "metadata": {},
     "source": [
      "The figure above illustrates the different orientations of the (red) crystal axes $[lmn]$ and the (black) Cartesian coordinates ($\\hat{x}, \\hat{y}, \\hat{z}$). The (light blue) $(110)$ surface is shown with respect to the (blue) cubic structure.\n",
      "\n",
      "Transformation matrix is constructed from the projections of the $\\hat{x}, \\hat{y}, \\hat{z}$ axes onto the crystal axes $[lmn]$.\n",
      "\n",
      "$$\n",
      "\\bar{T} = \n",
      "\\left[\n",
      "\\begin{array}{ccc}\n",
      "\\hat{x} \\cdot \\hat{l} & \\hat{x} \\cdot \\hat{n} & \\hat{x} \\cdot \\hat{m}  \\\\\n",
      "\\hat{y} \\cdot \\hat{l} & \\hat{y} \\cdot \\hat{n} & \\hat{y} \\cdot \\hat{m}  \\\\\n",
      "\\hat{z} \\cdot \\hat{l} & \\hat{z} \\cdot \\hat{n} & \\hat{z} \\cdot \\hat{m} \\\\\n",
      "\\end{array}\n",
      "\\right]\n",
      "$$"
     ]
    },
    {
     "cell_type": "code",
     "collapsed": false,
     "input": [
      "T = np.concatenate((x, y, z)).reshape(3,3)\n",
      "print T"
     ],
     "language": "python",
     "metadata": {},
     "outputs": [
      {
       "output_type": "stream",
       "stream": "stdout",
       "text": [
        "[[ 0.57735027 -0.57735027  0.57735027]\n",
        " [ 0.40824829 -0.40824829 -0.81649658]\n",
        " [ 0.70710678  0.70710678  0.        ]]\n"
       ]
      }
     ],
     "prompt_number": 9
    },
    {
     "cell_type": "markdown",
     "metadata": {},
     "source": [
      "\n",
      "\n",
      "The $[lmn]$ components of the $\\hat{x}$ axis can be computed through $\\hat{x} = \\hat{l} \\cdot \\bar{T}$."
     ]
    },
    {
     "cell_type": "code",
     "collapsed": false,
     "input": [
      "l.dot(T)"
     ],
     "language": "python",
     "metadata": {},
     "outputs": [
      {
       "metadata": {},
       "output_type": "pyout",
       "prompt_number": 10,
       "text": [
        "array([ 0.57735027, -0.57735027,  0.57735027])"
       ]
      }
     ],
     "prompt_number": 10
    },
    {
     "cell_type": "markdown",
     "metadata": {},
     "source": [
      "The Cartesian coordinates of the $\\hat{l}$ direction can be computed through $\\hat{l} = \\hat{x} \\cdot \\bar{T}^T$."
     ]
    },
    {
     "cell_type": "code",
     "collapsed": false,
     "input": [
      "x.dot(T.T)"
     ],
     "language": "python",
     "metadata": {},
     "outputs": [
      {
       "metadata": {},
       "output_type": "pyout",
       "prompt_number": 11,
       "text": [
        "array([ 1.,  0.,  0.])"
       ]
      }
     ],
     "prompt_number": 11
    },
    {
     "cell_type": "markdown",
     "metadata": {},
     "source": [
      "### Rotation of the transformation ###\n",
      "\n",
      "The axis can be rotated from its original definition by an arbitrary angle by using a rotation matrix around the $\\hat{z}$ axis. The rotation matrix is multiplied by the transformation matrix to construct the new transformation.\n",
      "\n",
      "$$\\bar{T}(\\theta) = \\bar{R}_z(\\theta) \\cdot \\bar{T_o}\n",
      "$$"
     ]
    },
    {
     "cell_type": "code",
     "collapsed": false,
     "input": [
      "Rz(0).dot(T)"
     ],
     "language": "python",
     "metadata": {},
     "outputs": [
      {
       "metadata": {},
       "output_type": "pyout",
       "prompt_number": 12,
       "text": [
        "matrix([[ 0.57735027, -0.57735027,  0.57735027],\n",
        "        [ 0.40824829, -0.40824829, -0.81649658],\n",
        "        [ 0.70710678,  0.70710678,  0.        ]])"
       ]
      }
     ],
     "prompt_number": 12
    },
    {
     "cell_type": "code",
     "collapsed": false,
     "input": [
      "Rz(180).dot(T)"
     ],
     "language": "python",
     "metadata": {},
     "outputs": [
      {
       "metadata": {},
       "output_type": "pyout",
       "prompt_number": 13,
       "text": [
        "matrix([[-0.57735027,  0.57735027, -0.57735027],\n",
        "        [-0.40824829,  0.40824829,  0.81649658],\n",
        "        [ 0.70710678,  0.70710678,  0.        ]])"
       ]
      }
     ],
     "prompt_number": 13
    },
    {
     "cell_type": "markdown",
     "metadata": {},
     "source": [
      "The matrix is seen to have flipped sign after the 180$^\\circ$ rotation in plane, while the surface normal vector is unchanged.\n",
      "\n",
      "This method can be used to construct an array of in-plane unit vectors that traverse the surface."
     ]
    },
    {
     "cell_type": "code",
     "collapsed": false,
     "input": [
      "angles = np.linspace(0, 360, num=100) # degrees\n",
      "rotations = rotation_array(Rz, angles)\n",
      "orientations = l.dot(rotations.dot(T))"
     ],
     "language": "python",
     "metadata": {},
     "outputs": [],
     "prompt_number": 14
    },
    {
     "cell_type": "code",
     "collapsed": false,
     "input": [
      "plt.plot(angles, orientations.dot(l), label='$l$')\n",
      "plt.plot(angles, orientations.dot(m), label='$m$')\n",
      "plt.plot(angles, orientations.dot(n), label='$n$')\n",
      "plt.xlim(0,360)\n",
      "plt.ylabel(\"Magnitude\")\n",
      "plt.xlabel(\"Angle (degrees)\")\n",
      "plt.legend(bbox_to_anchor=(1.05, 1), loc=2, borderaxespad=0.)\n",
      "plt.show()"
     ],
     "language": "python",
     "metadata": {},
     "outputs": [
      {
       "metadata": {},
       "output_type": "display_data",
       "png": "[encoded data removed]",
       "text": [
        "<matplotlib.figure.Figure at 0x7fc632a09dd0>"
       ]
      }
     ],
     "prompt_number": 15
    },
    {
     "cell_type": "markdown",
     "metadata": {},
     "source": [
      "A plot axis based on the Miller indices can be added to the above figure for clarity. This requires that the angles between the $\\left\\langle 111 \\right\\rangle$, $\\left\\langle 110 \\right\\rangle$, and $\\left\\langle 100 \\right\\rangle$ in-plane vectors found previously and the starting $\\hat{x}$ axis be determined."
     ]
    },
    {
     "cell_type": "code",
     "collapsed": false,
     "input": [
      "in_plane_normals = normalize(in_plane_indices)\n",
      "in_plane_angles = crystal.angle_between_directions(x, z,\n",
      "                            in_plane_normals, rotation='right')\n",
      "\n",
      "# Sort the angles and corresponding indices\n",
      "sorting_mask = in_plane_angles.argsort()\n",
      "in_plane_angles = in_plane_angles[sorting_mask]\n",
      "in_plane_indices = in_plane_indices[sorting_mask]\n",
      "in_plane_normals = in_plane_normals[sorting_mask]\n",
      "in_plane_labels = [crystal.miller_indices_display(i) for i in in_plane_indices]"
     ],
     "language": "python",
     "metadata": {},
     "outputs": [],
     "prompt_number": 16
    },
    {
     "cell_type": "markdown",
     "metadata": {},
     "source": [
      "A twin axis is used to add this Miller indice display to the previous figure."
     ]
    },
    {
     "cell_type": "code",
     "collapsed": false,
     "input": [
      "plt.plot(angles, orientations.dot(l), label='$l$')\n",
      "plt.plot(angles, orientations.dot(m), label='$m$')\n",
      "plt.plot(angles, orientations.dot(n), label='$n$')\n",
      "plt.xlim(0,360)\n",
      "plt.ylabel(\"Magnitude\")\n",
      "plt.xlabel(\"Angle (degrees)\")\n",
      "plt.legend(bbox_to_anchor=(1.05, 1), loc=2, borderaxespad=0.)\n",
      "\n",
      "plt.twiny()\n",
      "plt.xlabel(\"Angle $[lmn]$\")\n",
      "plt.xticks(in_plane_angles, in_plane_labels, rotation=45, verticalalignment='bottom')\n",
      "plt.grid(which='major')\n",
      "plt.xlim(0, 360)\n",
      "plt.twinx()\n",
      "plt.yticks([-1/np.sqrt(3), 1/np.sqrt(3)], alpha=0.0)\n",
      "plt.ylim(-1, 1)\n",
      "plt.grid(which='major')\n",
      "plt.show()"
     ],
     "language": "python",
     "metadata": {},
     "outputs": [
      {
       "metadata": {},
       "output_type": "display_data",
       "png": "[encoded data removed]",
       "text": [
        "<matplotlib.figure.Figure at 0x7fc632807590>"
       ]
      }
     ],
     "prompt_number": 17
    },
    {
     "cell_type": "markdown",
     "metadata": {},
     "source": [
      "The above figure makes the correspondence between the crystal directions and the in-plane angle clear, while displaying the components of the rotated $\\hat{x}$ axis.\n",
      "\n",
      "Plotting on a polar axis can also be achieved."
     ]
    },
    {
     "cell_type": "code",
     "collapsed": false,
     "input": [
      "ax = plt.subplot(111, polar=True)\n",
      "ax.set_rmax(1.0)\n",
      "ax.axes.get_yaxis().set_visible(False)\n",
      "plt.xticks(in_plane_angles/180*np.pi, in_plane_labels)\n",
      "plt.show()"
     ],
     "language": "python",
     "metadata": {},
     "outputs": [
      {
       "metadata": {},
       "output_type": "display_data",
       "png": "[encoded data removed]",
       "text": [
        "<matplotlib.figure.Figure at 0x7fc632720b90>"
       ]
      }
     ],
     "prompt_number": 18
    },
    {
     "cell_type": "markdown",
     "metadata": {},
     "source": [
      "## Constructing the (111) surface ##\n",
      "\n",
      "The $(111)$ surface is generated in the same way as was shown in the previous section for the $(110)$ surface. The in-plane indices are first generated."
     ]
    },
    {
     "cell_type": "code",
     "collapsed": false,
     "input": [
      "z = normalize(np.array([1,1,1]))\n",
      "in_plane_indices = crystal.in_plane_indices(z, magnitude=1)\n",
      "in_plane_normals = normalize(in_plane_indices)\n",
      "print in_plane_indices"
     ],
     "language": "python",
     "metadata": {},
     "outputs": [
      {
       "output_type": "stream",
       "stream": "stdout",
       "text": [
        "[[-1  0  1]\n",
        " [-1  1  0]\n",
        " [ 0 -1  1]\n",
        " [ 0  1 -1]\n",
        " [ 1 -1  0]\n",
        " [ 1  0 -1]]\n"
       ]
      }
     ],
     "prompt_number": 19
    },
    {
     "cell_type": "code",
     "collapsed": false,
     "input": [
      "fig, ax = plt.subplots()\n",
      "for vector, indices in zip(in_plane_normals, in_plane_indices):\n",
      "    loc = (0.5*x.dot(vector)+0.5, 0.5*y.dot(vector)+0.5)\n",
      "    ax.annotate(crystal.miller_indices_display(indices), \n",
      "            xy=loc, xycoords='axes fraction', fontsize=16,\n",
      "            horizontalalignment='center', verticalalignment='bottom')\n",
      "    ax.quiver(0,0,x.dot(vector),y.dot(vector),angles='xy',\n",
      "            scale_units='xy',scale=1, color='r')\n",
      "ax.set_xlim([-1,1])\n",
      "ax.set_ylim([-1,1])\n",
      "ax.axis('off')\n",
      "plt.draw()\n",
      "plt.show()"
     ],
     "language": "python",
     "metadata": {},
     "outputs": [
      {
       "metadata": {},
       "output_type": "display_data",
       "png": "[encoded data removed]",
       "text": [
        "<matplotlib.figure.Figure at 0x7f681b909f50>"
       ]
      }
     ],
     "prompt_number": 16
    },
    {
     "cell_type": "markdown",
     "metadata": {},
     "source": [
      "The $(111)$ surface is found to have no other $\\left\\langle 111 \\right\\rangle$ directions in its plane."
     ]
    },
    {
     "cell_type": "code",
     "collapsed": false,
     "input": [
      "figure = plt.figure()\n",
      "ax = figure.gca(projection='3d')\n",
      "ax.set_aspect(\"equal\")\n",
      "ax.view_init(elev=15, azim=20)\n",
      "ax.set_ylim(-1.25,1.25)\n",
      "ax.set_xlim(-1.25,1.25)\n",
      "ax.set_zlim(-1.25,1.25)\n",
      "ax.axis('off')\n",
      "\n",
      "def plot_surface(figure, normal, point=np.array([0,0,0])):\n",
      "    # TODO: Add functionality for other directions\n",
      "    d = -point.dot(normal)\n",
      "    print d\n",
      "    \n",
      "    r = np.linspace(-1, 1, num=10)\n",
      "    xx, yy = np.meshgrid(r, r)\n",
      "    zz = (-normal[0] * xx - normal[1] * yy - d)/normal[2]\n",
      "    \n",
      "    ax = figure.gca(projection='3d')\n",
      "    ax.plot_surface(xx, yy, zz, alpha=0.1)\n",
      "\n",
      "plot_surface(figure, z)\n",
      "plot_unit_square(figure)\n",
      "plot_unit_vectors(figure, in_plane_normals, color='r')\n",
      "plt.show()"
     ],
     "language": "python",
     "metadata": {},
     "outputs": [
      {
       "output_type": "stream",
       "stream": "stdout",
       "text": [
        "-0.0\n"
       ]
      },
      {
       "metadata": {},
       "output_type": "display_data",
       "png": "[encoded data removed]",
       "text": [
        "<matplotlib.figure.Figure at 0x7fc650297250>"
       ]
      }
     ],
     "prompt_number": 30
    },
    {
     "cell_type": "code",
     "collapsed": false,
     "input": [],
     "language": "python",
     "metadata": {},
     "outputs": [],
     "prompt_number": 21
    }
   ],
   "metadata": {}
  }
 ]
}