{
 "metadata": {
  "name": ""
 },
 "nbformat": 3,
 "nbformat_minor": 0,
 "worksheets": [
  {
   "cells": [
    {
     "cell_type": "markdown",
     "metadata": {},
     "source": [
      "# Free energy calculation #\n",
      "\n",
      "Author: Colin Jermain <clj72@cornell.edu>\n",
      "\n",
      "The free energy of a macrospin can be modeled using the macrospin package."
     ]
    },
    {
     "cell_type": "code",
     "collapsed": false,
     "input": [
      "from macrospin import energy, demag, Rz, rotation_array\n",
      "import numpy as np"
     ],
     "language": "python",
     "metadata": {},
     "outputs": [],
     "prompt_number": 1
    },
    {
     "cell_type": "code",
     "collapsed": false,
     "input": [
      "# Define the transformation matrix and unit vectors\n",
      "T = np.matrix([\n",
      "    [1/sqrt(3), -1/sqrt(3), 1/sqrt(3)], \n",
      "    [-1/sqrt(6), 1/sqrt(6), sqrt(2/3)], \n",
      "    [1/sqrt(2), 1/sqrt(2), 0]\n",
      "])\n",
      "x = np.array([1,0,0])\n",
      "y = np.array([0,1,0])\n",
      "z = np.array([0,0,1])\n",
      "c1 = T.dot(x)\n",
      "c2 = T.dot(y)\n",
      "T"
     ],
     "language": "python",
     "metadata": {},
     "outputs": [
      {
       "metadata": {},
       "output_type": "pyout",
       "prompt_number": 15,
       "text": [
        "matrix([[ 0.57735027, -0.57735027,  0.57735027],\n",
        "        [-0.40824829,  0.40824829,  0.        ],\n",
        "        [ 0.70710678,  0.70710678,  0.        ]])"
       ]
      }
     ],
     "prompt_number": 15
    },
    {
     "cell_type": "code",
     "collapsed": false,
     "input": [
      "T.T.dot(x)"
     ],
     "language": "python",
     "metadata": {},
     "outputs": [
      {
       "metadata": {},
       "output_type": "pyout",
       "prompt_number": 17,
       "text": [
        "matrix([[ 0.57735027, -0.57735027,  0.57735027]])"
       ]
      }
     ],
     "prompt_number": 17
    },
    {
     "cell_type": "code",
     "collapsed": false,
     "input": [
      "fig, ax = plt.subplots()\n",
      "ax.quiver(0,0,x.dot(T).dot(x),x.dot(T).dot(y),angles='xy',scale_units='xy',scale=1)\n",
      "ax.quiver(0,0,y.dot(T).dot(x),y.dot(T).dot(y),angles='xy',scale_units='xy',scale=1)\n",
      "ax.set_xlim([-1,1])\n",
      "ax.set_ylim([-1,1])\n",
      "plt.draw()\n",
      "plt.show()"
     ],
     "language": "python",
     "metadata": {},
     "outputs": [
      {
       "metadata": {},
       "output_type": "display_data",
       "png": "[encoded data removed]",
       "text": [
        "<matplotlib.figure.Figure at 0x7f95466103d0>"
       ]
      }
     ],
     "prompt_number": 14
    },
    {
     "cell_type": "code",
     "collapsed": false,
     "input": [
      "angles = np.linspace(0, 360, num=100)\n",
      "rotations = rotation_array(Rz, angles)\n",
      "\n",
      "# Define magnetization\n",
      "Ms = 140 # emu/cc\n",
      "m = rotations.dot(x)\n",
      "m"
     ],
     "language": "python",
     "metadata": {},
     "outputs": [
      {
       "metadata": {},
       "output_type": "pyout",
       "prompt_number": 4,
       "text": [
        "array([[  1.00000000e+00,   0.00000000e+00,   0.00000000e+00],\n",
        "       [  9.97986676e-01,   6.34239197e-02,   0.00000000e+00],\n",
        "       [  9.91954813e-01,   1.26592454e-01,   0.00000000e+00],\n",
        "       [  9.81928697e-01,   1.89251244e-01,   0.00000000e+00],\n",
        "       [  9.67948701e-01,   2.51147987e-01,   0.00000000e+00],\n",
        "       [  9.50071118e-01,   3.12033446e-01,   0.00000000e+00],\n",
        "       [  9.28367933e-01,   3.71662456e-01,   0.00000000e+00],\n",
        "       [  9.02926538e-01,   4.29794912e-01,   0.00000000e+00],\n",
        "       [  8.73849377e-01,   4.86196736e-01,   0.00000000e+00],\n",
        "       [  8.41253533e-01,   5.40640817e-01,   0.00000000e+00],\n",
        "       [  8.05270258e-01,   5.92907929e-01,   0.00000000e+00],\n",
        "       [  7.66044443e-01,   6.42787610e-01,   0.00000000e+00],\n",
        "       [  7.23734038e-01,   6.90079011e-01,   0.00000000e+00],\n",
        "       [  6.78509412e-01,   7.34591709e-01,   0.00000000e+00],\n",
        "       [  6.30552667e-01,   7.76146464e-01,   0.00000000e+00],\n",
        "       [  5.80056910e-01,   8.14575952e-01,   0.00000000e+00],\n",
        "       [  5.27225468e-01,   8.49725430e-01,   0.00000000e+00],\n",
        "       [  4.72271075e-01,   8.81453363e-01,   0.00000000e+00],\n",
        "       [  4.15415013e-01,   9.09631995e-01,   0.00000000e+00],\n",
        "       [  3.56886222e-01,   9.34147860e-01,   0.00000000e+00],\n",
        "       [  2.96920375e-01,   9.54902241e-01,   0.00000000e+00],\n",
        "       [  2.35758936e-01,   9.71811568e-01,   0.00000000e+00],\n",
        "       [  1.73648178e-01,   9.84807753e-01,   0.00000000e+00],\n",
        "       [  1.10838200e-01,   9.93838464e-01,   0.00000000e+00],\n",
        "       [  4.75819158e-02,   9.98867339e-01,   0.00000000e+00],\n",
        "       [ -1.58659638e-02,   9.99874128e-01,   0.00000000e+00],\n",
        "       [ -7.92499569e-02,   9.96854776e-01,   0.00000000e+00],\n",
        "       [ -1.42314838e-01,   9.89821442e-01,   0.00000000e+00],\n",
        "       [ -2.04806668e-01,   9.78802446e-01,   0.00000000e+00],\n",
        "       [ -2.66473814e-01,   9.63842159e-01,   0.00000000e+00],\n",
        "       [ -3.27067963e-01,   9.45000819e-01,   0.00000000e+00],\n",
        "       [ -3.86345126e-01,   9.22354294e-01,   0.00000000e+00],\n",
        "       [ -4.44066613e-01,   8.95993774e-01,   0.00000000e+00],\n",
        "       [ -5.00000000e-01,   8.66025404e-01,   0.00000000e+00],\n",
        "       [ -5.53920064e-01,   8.32569855e-01,   0.00000000e+00],\n",
        "       [ -6.05609687e-01,   7.95761841e-01,   0.00000000e+00],\n",
        "       [ -6.54860734e-01,   7.55749574e-01,   0.00000000e+00],\n",
        "       [ -7.01474888e-01,   7.12694171e-01,   0.00000000e+00],\n",
        "       [ -7.45264450e-01,   6.66769001e-01,   0.00000000e+00],\n",
        "       [ -7.86053095e-01,   6.18158986e-01,   0.00000000e+00],\n",
        "       [ -8.23676581e-01,   5.67059864e-01,   0.00000000e+00],\n",
        "       [ -8.57983413e-01,   5.13677392e-01,   0.00000000e+00],\n",
        "       [ -8.88835449e-01,   4.58226522e-01,   0.00000000e+00],\n",
        "       [ -9.16108457e-01,   4.00930535e-01,   0.00000000e+00],\n",
        "       [ -9.39692621e-01,   3.42020143e-01,   0.00000000e+00],\n",
        "       [ -9.59492974e-01,   2.81732557e-01,   0.00000000e+00],\n",
        "       [ -9.75429787e-01,   2.20310533e-01,   0.00000000e+00],\n",
        "       [ -9.87438889e-01,   1.58001396e-01,   0.00000000e+00],\n",
        "       [ -9.95471923e-01,   9.50560433e-02,   0.00000000e+00],\n",
        "       [ -9.99496542e-01,   3.17279335e-02,   0.00000000e+00],\n",
        "       [ -9.99496542e-01,  -3.17279335e-02,   0.00000000e+00],\n",
        "       [ -9.95471923e-01,  -9.50560433e-02,   0.00000000e+00],\n",
        "       [ -9.87438889e-01,  -1.58001396e-01,   0.00000000e+00],\n",
        "       [ -9.75429787e-01,  -2.20310533e-01,   0.00000000e+00],\n",
        "       [ -9.59492974e-01,  -2.81732557e-01,   0.00000000e+00],\n",
        "       [ -9.39692621e-01,  -3.42020143e-01,   0.00000000e+00],\n",
        "       [ -9.16108457e-01,  -4.00930535e-01,   0.00000000e+00],\n",
        "       [ -8.88835449e-01,  -4.58226522e-01,   0.00000000e+00],\n",
        "       [ -8.57983413e-01,  -5.13677392e-01,   0.00000000e+00],\n",
        "       [ -8.23676581e-01,  -5.67059864e-01,   0.00000000e+00],\n",
        "       [ -7.86053095e-01,  -6.18158986e-01,   0.00000000e+00],\n",
        "       [ -7.45264450e-01,  -6.66769001e-01,   0.00000000e+00],\n",
        "       [ -7.01474888e-01,  -7.12694171e-01,   0.00000000e+00],\n",
        "       [ -6.54860734e-01,  -7.55749574e-01,   0.00000000e+00],\n",
        "       [ -6.05609687e-01,  -7.95761841e-01,   0.00000000e+00],\n",
        "       [ -5.53920064e-01,  -8.32569855e-01,   0.00000000e+00],\n",
        "       [ -5.00000000e-01,  -8.66025404e-01,   0.00000000e+00],\n",
        "       [ -4.44066613e-01,  -8.95993774e-01,   0.00000000e+00],\n",
        "       [ -3.86345126e-01,  -9.22354294e-01,   0.00000000e+00],\n",
        "       [ -3.27067963e-01,  -9.45000819e-01,   0.00000000e+00],\n",
        "       [ -2.66473814e-01,  -9.63842159e-01,   0.00000000e+00],\n",
        "       [ -2.04806668e-01,  -9.78802446e-01,   0.00000000e+00],\n",
        "       [ -1.42314838e-01,  -9.89821442e-01,   0.00000000e+00],\n",
        "       [ -7.92499569e-02,  -9.96854776e-01,   0.00000000e+00],\n",
        "       [ -1.58659638e-02,  -9.99874128e-01,   0.00000000e+00],\n",
        "       [  4.75819158e-02,  -9.98867339e-01,   0.00000000e+00],\n",
        "       [  1.10838200e-01,  -9.93838464e-01,   0.00000000e+00],\n",
        "       [  1.73648178e-01,  -9.84807753e-01,   0.00000000e+00],\n",
        "       [  2.35758936e-01,  -9.71811568e-01,   0.00000000e+00],\n",
        "       [  2.96920375e-01,  -9.54902241e-01,   0.00000000e+00],\n",
        "       [  3.56886222e-01,  -9.34147860e-01,   0.00000000e+00],\n",
        "       [  4.15415013e-01,  -9.09631995e-01,   0.00000000e+00],\n",
        "       [  4.72271075e-01,  -8.81453363e-01,   0.00000000e+00],\n",
        "       [  5.27225468e-01,  -8.49725430e-01,   0.00000000e+00],\n",
        "       [  5.80056910e-01,  -8.14575952e-01,   0.00000000e+00],\n",
        "       [  6.30552667e-01,  -7.76146464e-01,   0.00000000e+00],\n",
        "       [  6.78509412e-01,  -7.34591709e-01,   0.00000000e+00],\n",
        "       [  7.23734038e-01,  -6.90079011e-01,   0.00000000e+00],\n",
        "       [  7.66044443e-01,  -6.42787610e-01,   0.00000000e+00],\n",
        "       [  8.05270258e-01,  -5.92907929e-01,   0.00000000e+00],\n",
        "       [  8.41253533e-01,  -5.40640817e-01,   0.00000000e+00],\n",
        "       [  8.73849377e-01,  -4.86196736e-01,   0.00000000e+00],\n",
        "       [  9.02926538e-01,  -4.29794912e-01,   0.00000000e+00],\n",
        "       [  9.28367933e-01,  -3.71662456e-01,   0.00000000e+00],\n",
        "       [  9.50071118e-01,  -3.12033446e-01,   0.00000000e+00],\n",
        "       [  9.67948701e-01,  -2.51147987e-01,   0.00000000e+00],\n",
        "       [  9.81928697e-01,  -1.89251244e-01,   0.00000000e+00],\n",
        "       [  9.91954813e-01,  -1.26592454e-01,   0.00000000e+00],\n",
        "       [  9.97986676e-01,  -6.34239197e-02,   0.00000000e+00],\n",
        "       [  1.00000000e+00,  -2.44929360e-16,   0.00000000e+00]])"
       ]
      }
     ],
     "prompt_number": 4
    },
    {
     "cell_type": "code",
     "collapsed": false,
     "input": [],
     "language": "python",
     "metadata": {},
     "outputs": []
    }
   ],
   "metadata": {}
  }
 ]
}