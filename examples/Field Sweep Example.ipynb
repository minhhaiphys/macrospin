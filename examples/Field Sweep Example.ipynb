{
 "metadata": {
  "name": "",
  "signature": "sha256:9176a5fff8c80226b14a3875e19529f36f6d6e1085e1bada21bca1e9820bab9e"
 },
 "nbformat": 3,
 "nbformat_minor": 0,
 "worksheets": [
  {
   "cells": [
    {
     "cell_type": "markdown",
     "metadata": {},
     "source": [
      "# Field Sweep Example #\n",
      "Author: Colin Jermain <clj72@cornell.edu>\n",
      "\n",
      "Simulating the equilibrium positions of a macrospin as a function of applied field is demonstrated. This produces the hysteretic magnetization curve.\n",
      "\n",
      "A `FieldSweep` object is used to preform the simulation. The parameters of the sweep are defined using a static method, `loop`, which constructs the actual object using the typical sequency ($H_{start} \\rightarrow H_{end} \\rightarrow H_{start}$). For arbitrary fields, the `FieldSweep` should be constructed directly."
     ]
    },
    {
     "cell_type": "markdown",
     "metadata": {},
     "source": [
      "## Importing the plotting library ##\n",
      "Before starting, the necessary plotting library is imported so that displays can be made."
     ]
    },
    {
     "cell_type": "code",
     "collapsed": false,
     "input": [
      "%matplotlib inline\n",
      "from matplotlib import pyplot as plt"
     ],
     "language": "python",
     "metadata": {},
     "outputs": [],
     "prompt_number": 1
    },
    {
     "cell_type": "markdown",
     "metadata": {},
     "source": [
      "## Setting up the kernel ##\n",
      "Unlike the [basic example](Basic Macrospin Example.ipynb), the external field does not need to be defined in the parameters. This will be taken care of in the `FieldSweep`."
     ]
    },
    {
     "cell_type": "code",
     "collapsed": false,
     "input": [
      "from macrospin.parameters import CgsParameters\n",
      "from macrospin.kernels import BasicKernel\n",
      "\n",
      "parameters = CgsParameters({\n",
      "    'Ms': 140, # Saturation Magnetization (emu/cc)\n",
      "    'dt': 5e-13, # Timestep (sec)\n",
      "    'damping': 0.01, # Gilbert damping\n",
      "    'm0': [-0.999, 0.001, 0.001], # Initial moment (normalized)\n",
      "})\n",
      "\n",
      "kernel = BasicKernel(parameters)"
     ],
     "language": "python",
     "metadata": {},
     "outputs": [],
     "prompt_number": 2
    },
    {
     "cell_type": "markdown",
     "metadata": {},
     "source": [
      "## Setting up the field sweep #\n",
      "The units of the start and end fields are defined based on the Parameters object that was chosen initially for the kernel."
     ]
    },
    {
     "cell_type": "code",
     "collapsed": false,
     "input": [
      "from macrospin.simulations import FieldSweep\n",
      "\n",
      "simulation = FieldSweep.loop(\n",
      "    kernel,\n",
      "    direction='x',\n",
      "    start_field=-1e3, # units of Oe from CgsParameters\n",
      "    end_field=1e3, # units of Oe from CgsParameters\n",
      "    points=10,\n",
      ")"
     ],
     "language": "python",
     "metadata": {},
     "outputs": [],
     "prompt_number": 3
    },
    {
     "cell_type": "code",
     "collapsed": false,
     "input": [
      "fields, times, moments = simulation.run(1e-20)"
     ],
     "language": "python",
     "metadata": {},
     "outputs": [],
     "prompt_number": 25
    },
    {
     "cell_type": "code",
     "collapsed": false,
     "input": [
      "plt.plot(fields[:,0], moments[:,0], 'o-')\n",
      "plt.ylim(-1.1, 1.1)\n",
      "plt.ylabel(\"Mx/Ms\")\n",
      "plt.xlabel(\"x Applied Field (Oe)\")\n",
      "plt.show()"
     ],
     "language": "python",
     "metadata": {},
     "outputs": [
      {
       "metadata": {},
       "output_type": "display_data",
       "png": "[encoded data removed]",
       "text": [
        "<matplotlib.figure.Figure at 0x7f7ff5218390>"
       ]
      }
     ],
     "prompt_number": 27
    },
    {
     "cell_type": "code",
     "collapsed": false,
     "input": [],
     "language": "python",
     "metadata": {},
     "outputs": []
    }
   ],
   "metadata": {}
  }
 ]
}