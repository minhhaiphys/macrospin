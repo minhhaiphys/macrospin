{
 "metadata": {
  "name": "",
  "signature": "sha256:1f9e88aec00d795b9e6ce0907e6118ace7e447777077cb8acd5b9e71b0aee084"
 },
 "nbformat": 3,
 "nbformat_minor": 0,
 "worksheets": [
  {
   "cells": [
    {
     "cell_type": "markdown",
     "metadata": {},
     "source": [
      "# Field Sweep Example #\n",
      "Author: Colin Jermain\n",
      "\n",
      "Simulating the equilibrium positions of a macrospin as a function of applied field is demonstrated. This produces the hysteretic magnetization curve.\n",
      "\n",
      "A `FieldSweep` object is used to preform the simulation. The parameters of the sweep are defined using a static method, `loop`, which constructs the actual object using the typical sequency ($H_{start} \\rightarrow H_{end} \\rightarrow H_{start}$). For arbitrary fields, the `FieldSweep` should be constructed directly."
     ]
    },
    {
     "cell_type": "markdown",
     "metadata": {},
     "source": [
      "## Importing the plotting library ##\n",
      "Before starting, the necessary plotting library is imported so that displays can be made."
     ]
    },
    {
     "cell_type": "code",
     "collapsed": false,
     "input": [
      "%matplotlib inline\n",
      "from matplotlib import pyplot as plt"
     ],
     "language": "python",
     "metadata": {},
     "outputs": [],
     "prompt_number": 1
    },
    {
     "cell_type": "markdown",
     "metadata": {},
     "source": [
      "## Setting up the kernel ##\n",
      "Unlike the [basic example](Basic Macrospin Example.ipynb), the external field does not need to be defined in the parameters. This will be taken care of in the `FieldSweep`."
     ]
    },
    {
     "cell_type": "code",
     "collapsed": false,
     "input": [
      "from macrospin.parameters import CgsParameters\n",
      "from macrospin.kernels import BasicKernel\n",
      "\n",
      "parameters = CgsParameters({\n",
      "    'Ms': 140, # Saturation Magnetization (emu/cc)\n",
      "    'dt': 5e-13, # Timestep (sec)\n",
      "    'damping': 0.01, # Gilbert damping\n",
      "    'm0': [-0.999, 0.001, 0.001], # Initial moment (normalized)\n",
      "    'Hext': [0., 0., 0.],\n",
      "})\n",
      "\n",
      "kernel = BasicKernel(parameters, step_method='RK4')"
     ],
     "language": "python",
     "metadata": {},
     "outputs": [],
     "prompt_number": 2
    },
    {
     "cell_type": "code",
     "collapsed": false,
     "input": [
      "kernel.reset()\n",
      "kernel.hext = kernel.raw_parameters.normalize_field([-1e3, 0, 0])\n",
      "kernel.relax(1000)\n",
      "kernel.t_sec"
     ],
     "language": "python",
     "metadata": {},
     "outputs": [
      {
       "metadata": {},
       "output_type": "pyout",
       "prompt_number": 9,
       "text": [
        "3.5000757657524596e-09"
       ]
      }
     ],
     "prompt_number": 9
    },
    {
     "cell_type": "markdown",
     "metadata": {},
     "source": [
      "## Setting up the field sweep #\n",
      "The units of the start and end fields are defined based on the Parameters object that was chosen initially for the kernel."
     ]
    },
    {
     "cell_type": "code",
     "collapsed": false,
     "input": [
      "from macrospin.simulations import FieldSweep\n",
      "\n",
      "simulation = FieldSweep.loop(\n",
      "    kernel,\n",
      "    direction='x',\n",
      "    start_field=-1e3, # units of Oe from CgsParameters\n",
      "    end_field=1e3, # units of Oe from CgsParameters\n",
      "    points=10,\n",
      ")"
     ],
     "language": "python",
     "metadata": {},
     "outputs": [],
     "prompt_number": 4
    },
    {
     "cell_type": "code",
     "collapsed": false,
     "input": [
      "fields, times, moments = simulation.run(1000)"
     ],
     "language": "python",
     "metadata": {},
     "outputs": [
      {
       "output_type": "stream",
       "stream": "stdout",
       "text": [
        "[-7.14285707  0.          0.        ]\n",
        "t: 0.0 3.50007576575e-09\n",
        "[-5.55555534  0.          0.        ]\n",
        "t: 3.50007576575e-09 4.99964927402e-09\n",
        "[-3.96825385  0.          0.        ]\n",
        "t: 4.99964927402e-09 5.99936494619e-09\n",
        "[-2.38095212  0.          0.        ]\n",
        "t: 5.99936494619e-09 6.99967860328e-09\n",
        "[-0.79365063  0.          0.        ]\n",
        "t: 6.99967860328e-09 8.000132073e-09\n",
        "[ 0.79365063  0.          0.        ]\n",
        "t: 8.000132073e-09 9.00058554272e-09\n",
        "[ 2.3809526  0.         0.       ]\n",
        "t: 9.00058554272e-09 1.00010390124e-08\n",
        "[ 3.9682548  0.         0.       ]\n",
        "t: 1.00010390124e-08 1.10014924822e-08\n",
        "[ 5.55555582  0.          0.        ]\n",
        "t: 1.10014924822e-08 1.20019459519e-08\n",
        "[ 7.14285707  0.          0.        ]\n",
        "t: 1.20019459519e-08 1.30023994216e-08\n",
        "[ 7.14285707  0.          0.        ]\n",
        "t: 1.30023994216e-08 9.81106352283e-08\n",
        "[ 5.55555582  0.          0.        ]\n",
        "t: 9.81106352283e-08 9.91129951668e-08\n",
        "[ 3.9682548  0.         0.       ]\n",
        "t: 9.91129951668e-08 1.00600395016e-07\n",
        "[ 2.3809526  0.         0.       ]\n",
        "t: 1.00600395016e-07 1.01591994915e-07\n",
        "[ 0.79365063  0.          0.        ]\n",
        "t: 1.01591994915e-07 1.02583594814e-07\n",
        "[-0.79365063  0.          0.        ]\n",
        "t: 1.02583594814e-07 1.03575194713e-07\n",
        "[-2.38095212  0.          0.        ]\n",
        "t: 1.03575194713e-07 1.04566794612e-07\n",
        "[-3.96825385  0.          0.        ]\n",
        "t: 1.04566794612e-07 1.06054194461e-07\n",
        "[-5.55555534  0.          0.        ]\n",
        "t: 1.06054194461e-07 1.0754159431e-07\n",
        "[-7.14285707  0.          0.        ]\n",
        "t:"
       ]
      },
      {
       "output_type": "stream",
       "stream": "stdout",
       "text": [
        " 1.0754159431e-07 1.92323385691e-07\n"
       ]
      }
     ],
     "prompt_number": 8
    },
    {
     "cell_type": "code",
     "collapsed": false,
     "input": [
      "plt.plot(fields[:,0], moments[:,0], 'o-')\n",
      "plt.ylim(-1.1, 1.1)\n",
      "plt.ylabel(\"Mx/Ms\")\n",
      "plt.xlabel(\"x Applied Field (Oe)\")\n",
      "plt.show()"
     ],
     "language": "python",
     "metadata": {},
     "outputs": [
      {
       "metadata": {},
       "output_type": "display_data",
       "png": "[encoded data removed]",
       "text": [
        "<matplotlib.figure.Figure at 0x7fc263f76c90>"
       ]
      }
     ],
     "prompt_number": 26
    },
    {
     "cell_type": "code",
     "collapsed": false,
     "input": [
      "moments"
     ],
     "language": "python",
     "metadata": {},
     "outputs": [
      {
       "metadata": {},
       "output_type": "pyout",
       "prompt_number": 27,
       "text": [
        "array([[ -9.99999762e-01,   3.92905466e-04,  -6.29158458e-04],\n",
        "       [ -9.99999821e-01,  -5.05058561e-04,   3.20192921e-04],\n",
        "       [ -9.99999881e-01,   9.21088431e-05,  -5.31778147e-04],\n",
        "       [ -9.99999881e-01,   1.49548141e-04,  -4.84941498e-04],\n",
        "       [ -9.99999881e-01,  -4.88944817e-04,   9.00616724e-05],\n",
        "       [ -9.99999881e-01,   1.49215557e-04,  -4.85039636e-04],\n",
        "       [ -9.99999881e-01,   9.13806725e-05,  -5.31895610e-04],\n",
        "       [ -9.99999881e-01,  -5.04391151e-04,   3.21219733e-04],\n",
        "       [ -9.99999821e-01,  -2.31783619e-04,  -6.50272705e-04],\n",
        "       [ -9.99999702e-01,  -5.51651872e-04,  -6.20612642e-04],\n",
        "       [  9.99999762e-01,  -6.84985309e-04,   2.66519928e-04],\n",
        "       [  9.99999821e-01,  -9.24411434e-05,  -6.29927556e-04],\n",
        "       [  9.99999881e-01,   2.44914030e-04,   4.87840152e-04],\n",
        "       [  9.99999881e-01,   2.86803697e-04,   4.25674691e-04],\n",
        "       [  9.99999881e-01,  -4.99725167e-04,   5.60087465e-05],\n",
        "       [  9.99999881e-01,   2.86509894e-04,   4.25868115e-04],\n",
        "       [  9.99999881e-01,   2.44241848e-04,   4.88168589e-04],\n",
        "       [  9.99999821e-01,  -9.11417519e-05,  -6.30103750e-04],\n",
        "       [  9.99999702e-01,  -2.36822278e-04,   7.53363594e-04],\n",
        "       [ -9.99999762e-01,   6.97665324e-04,   9.92294008e-05]], dtype=float32)"
       ]
      }
     ],
     "prompt_number": 27
    },
    {
     "cell_type": "code",
     "collapsed": false,
     "input": [
      "times"
     ],
     "language": "python",
     "metadata": {},
     "outputs": [
      {
       "metadata": {},
       "output_type": "pyout",
       "prompt_number": 34,
       "text": [
        "array([[  3.50007578e-09],\n",
        "       [  1.49957347e-09],\n",
        "       [  9.99715644e-10],\n",
        "       [  1.00031361e-09],\n",
        "       [  1.00045350e-09],\n",
        "       [  1.00045350e-09],\n",
        "       [  1.00045350e-09],\n",
        "       [  1.00045350e-09],\n",
        "       [  1.00045350e-09],\n",
        "       [  1.00045350e-09],\n",
        "       [  8.51082333e-08],\n",
        "       [  1.00235997e-09],\n",
        "       [  1.48739987e-09],\n",
        "       [  9.91599913e-10],\n",
        "       [  9.91599913e-10],\n",
        "       [  9.91599913e-10],\n",
        "       [  9.91599913e-10],\n",
        "       [  1.48739987e-09],\n",
        "       [  1.48739987e-09],\n",
        "       [  8.47817887e-08]], dtype=float32)"
       ]
      }
     ],
     "prompt_number": 34
    },
    {
     "cell_type": "code",
     "collapsed": false,
     "input": [],
     "language": "python",
     "metadata": {},
     "outputs": [],
     "prompt_number": 8
    }
   ],
   "metadata": {}
  }
 ]
}