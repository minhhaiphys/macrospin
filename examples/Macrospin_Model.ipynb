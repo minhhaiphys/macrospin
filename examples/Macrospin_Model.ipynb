{
 "cells": [
  {
   "cell_type": "markdown",
   "metadata": {},
   "source": [
    "# A quick introduction to Macrospin Model"
   ]
  },
  {
   "cell_type": "markdown",
   "metadata": {},
   "source": [
    "### Macrospin equation\n",
    "\n",
    "The `pymacrospin` kernels solve numerically the following Landau-Lifshitz-Gilbert and extended Slonczewski equation:\n",
    "\n",
    "$$\n",
    "\\frac{dm}{dt} = h_{\\rm eff} \\times m + \\alpha \\left( m \\times h_{\\rm eff} \\times m \\right) \n",
    "+ \\epsilon_{\\rm DL} J_s (m \\times m_p \\times m) + \\epsilon_{\\rm FL} J_s m_p \\times m\n",
    "$$\n",
    "\n",
    "where \n",
    "\n",
    "$m$ = reduced magnetization\n",
    "\n",
    "$h_{\\rm eff}$ = reduced effective field\n",
    "\n",
    "$\\alpha$ = Gilbert damping constant\n",
    "\n",
    "$J_s= {\\gamma}/{\\mu_0 M_s} \\cdot {\\hbar}/{2e} \\cdot {J_c}/{t}$, think of it as reduced \"spin density\"\n",
    "\n",
    "$m_p$ = (unit) electron polarization direction\n",
    "\n",
    "$\\epsilon_{\\rm DL}$ = ${\\frac{{2P\\Lambda^2}}{{(\\Lambda^2+1)+(\\Lambda^2-1)(\\textbf{m}\\cdot\\textbf{m}_p)}}}$ is the \"damping-like\" spin-torque, where $P$ is spin polarization and $\\Lambda$ represents spin transfer efficiency. For spin-orbit-torque, set $\\Lambda=1$ and $P$ the SOT efficiency.\n",
    "\n",
    "$\\epsilon_{\\rm FL}$ = secondary spin tranfer term representing \"field-like\" spin-torque."
   ]
  },
  {
   "cell_type": "markdown",
   "metadata": {},
   "source": [
    "### Shape anisotropy - Demagnetization field\n",
    "\n",
    "When confinement of the magnetic sample in one or more dimensions gives rise to the demagnetization field. This is usually the case when we consider a real sample having finite shape.\n",
    "\n",
    "In general, the demag field is represented by the demag tensor which dictates the demag field induced each component of the magnetization vector. For most cases, the off-diagonal terms are close to zero. In this package, we only deal with the diagonal terms and pack them in a 3-array ```Nd```. The demag field is then:\n",
    "$$\n",
    "h_{\\rm demag} = -m \\cdot {\\rm Nd}\n",
    "$$\n",
    "\n",
    "```demag.py``` provides functions to calculate ```Nd``` for a few typical shapes."
   ]
  },
  {
   "cell_type": "markdown",
   "metadata": {},
   "source": [
    "### Uniaxial anisotropy\n",
    "\n",
    "Some materials exhibit crystalline anisotropy in which the energy depends on the angle of the magnetization relative to the crystalline orientation. The simplest case is uniaxial anisotropy where the magnetization is preferred pointing along a fixed axis $u$. The uniaxial anisotropy energy is then\n",
    "$$\n",
    "- K_{u1} (m \\cdot u)^2 - K_{u2} (m \\cdot u)^4\n",
    "$$\n",
    "where $K_{u1}$ and $K_{u2}$ are constants. The two terms above can be divided by $-m$ to get the uniaxial anisotropy effective field."
   ]
  },
  {
   "cell_type": "markdown",
   "metadata": {},
   "source": [
    "### Cubic anisotropy\n",
    "\n",
    "The cubic anisotropy can be defined in the context of a given crystal surface. The origins of cubic anisotropy are in spin-orbit coupling [(O'Handley, 2000)](http://www.wiley.com/WileyCDA/WileyTitle/productCd-0471155667.html). The cubic anisotropy contributes to the free energy in terms of the square of the magnetization. This can be explained by time-reversal symmetry, under which the direction of magnetization ($\\vec{M} = \\vec{r} \\times \\vec{J}$) is expected to reverse [(Landau et al., 1960)](https://www.elsevier.com/books/electrodynamics-of-continuous-media/landau/978-0-7506-2634-7). The free energy should not reverse sign since this would make stable equilibriums into unstable energy maxima. The first two terms of the anisotropy part of the free energy take the form\n",
    "\n",
    "$$F_c = \\frac{K_{c1}}{M_s^4}(M_l^2 M_m^2 + M_m^2 M_n^2 + M_l^2 M_n^2) + \\frac{K_{c2}}{M_s^6}(M_l^2 M_m^2 M_n^2)$$\n",
    "\n",
    "in terms of the magnetization along the Miller indices $[lmn]$ of the crystal, saturation magnetization ($M_s$), and the first and second order energy coefficients ($K_{c1}$ and $K_{c2}$).\n"
   ]
  },
  {
   "cell_type": "code",
   "execution_count": null,
   "metadata": {},
   "outputs": [],
   "source": []
  }
 ],
 "metadata": {
  "kernelspec": {
   "display_name": "Python 3",
   "language": "python",
   "name": "python3"
  },
  "language_info": {
   "codemirror_mode": {
    "name": "ipython",
    "version": 3
   },
   "file_extension": ".py",
   "mimetype": "text/x-python",
   "name": "python",
   "nbconvert_exporter": "python",
   "pygments_lexer": "ipython3",
   "version": "3.7.3"
  }
 },
 "nbformat": 4,
 "nbformat_minor": 4
}
