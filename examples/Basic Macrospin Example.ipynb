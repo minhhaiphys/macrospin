{
 "metadata": {
  "name": "",
  "signature": "sha256:515043dc0b79ba3ca87a201a29bdf8273a0932257b38d631d035ea4a2cb90e3c"
 },
 "nbformat": 3,
 "nbformat_minor": 0,
 "worksheets": [
  {
   "cells": [
    {
     "cell_type": "markdown",
     "metadata": {},
     "source": [
      "# Basic Macrospin Example #\n",
      "Author: Colin Jermain <clj72@cornell.edu>\n",
      "\n",
      "A basic example of a macrospin simulation is demonstrated. Consider the case of a single macrospin in the presence of only an external field of 1 kOe along the $\\hat{y}$ axis. The moment is initially along -$\\hat{x}$. The moment will rotate to align with the external field based on the Landau-Lifshitz-Gilbert (LLG) equation.\n",
      "\n",
      "The simulation is run by first constructing a set of parameters using the `CgsParameters` class, in which CGS units are used. For MKS units, use the `MksParameters` class instead. The parameters are passed to the kernel on construction. The `BasicKernel` only includes the presence of an external field so that there is no computational penalty for unused additional features, such as spin-transfer-torque or anisotropy."
     ]
    },
    {
     "cell_type": "markdown",
     "metadata": {},
     "source": [
      "## Importing the plotting library ##\n",
      "Before starting, the necessary plotting library is imported so that displays can be made."
     ]
    },
    {
     "cell_type": "code",
     "collapsed": false,
     "input": [
      "%matplotlib inline\n",
      "from matplotlib import pyplot as plt"
     ],
     "language": "python",
     "metadata": {},
     "outputs": [],
     "prompt_number": 1
    },
    {
     "cell_type": "markdown",
     "metadata": {},
     "source": [
      "## Setting up the kernel ##"
     ]
    },
    {
     "cell_type": "code",
     "collapsed": false,
     "input": [
      "from macrospin.parameters import CgsParameters\n",
      "from macrospin.kernels import BasicKernel\n",
      "\n",
      "parameters = CgsParameters({\n",
      "    'Ms': 140, # Saturation Magnetization (emu/cc)\n",
      "    'dt': 5e-13, # Timestep (sec)\n",
      "    'damping': 0.01, # Gilbert damping\n",
      "    'Hext': [0., 1e3, 0.], # External field (Oe)\n",
      "    'm0': [-0.999, 0.001, 0.001], # Initial moment (normalized)\n",
      "    'Nd': [0, 0, 0], # Demagnetization diagonal tensor elements\n",
      "})\n",
      "\n",
      "kernel = BasicKernel(parameters, step_method='RK23')"
     ],
     "language": "python",
     "metadata": {},
     "outputs": [
      {
       "output_type": "stream",
       "stream": "stdout",
       "text": [
        "In Parent!\n"
       ]
      }
     ],
     "prompt_number": 5
    },
    {
     "cell_type": "markdown",
     "metadata": {},
     "source": [
      "## Running the kernel ##\n",
      "Now the kernel is ready to be used. The simulations are run for 100 ns, and then the results are plotted."
     ]
    },
    {
     "cell_type": "code",
     "collapsed": false,
     "input": [
      "times1, moments1 = kernel.run(time=1e-7)\n",
      "plt.plot(times1, moments1[:,0], label='x')\n",
      "plt.plot(times1, moments1[:,1], label='y')\n",
      "plt.plot(times1, moments1[:,2], label='z')\n",
      "plt.ylim(-1.1, 1.1)\n",
      "plt.ylabel(\"M/Ms\")\n",
      "plt.xlabel(\"Time (sec)\")\n",
      "plt.legend()\n",
      "plt.show()"
     ],
     "language": "python",
     "metadata": {},
     "outputs": [
      {
       "metadata": {},
       "output_type": "display_data",
       "png": "[encoded data removed]",
       "text": [
        "<matplotlib.figure.Figure at 0x7fdea72bd890>"
       ]
      }
     ],
     "prompt_number": 4
    },
    {
     "cell_type": "markdown",
     "metadata": {},
     "source": [
      "The moment is seen to rotate to point along the $\\hat{y}$ direction of the external field as expected."
     ]
    },
    {
     "cell_type": "markdown",
     "metadata": {},
     "source": [
      "## Continuing the simulation ##\n",
      "The kernel can continue where it left off. Below, the kernel is run for another 100 ns and plotted."
     ]
    },
    {
     "cell_type": "code",
     "collapsed": false,
     "input": [
      "times2, moments2 = kernel.run(time=1e-7)\n",
      "plt.plot(times2, moments2[:,0], label='x')\n",
      "plt.plot(times2, moments2[:,1], label='y')\n",
      "plt.plot(times2, moments2[:,2], label='z')\n",
      "plt.ylim(-1.1, 1.1)\n",
      "plt.ylabel(\"M/Ms\")\n",
      "plt.xlabel(\"Time (sec)\")\n",
      "plt.legend()\n",
      "plt.show()"
     ],
     "language": "python",
     "metadata": {},
     "outputs": [
      {
       "metadata": {},
       "output_type": "display_data",
       "png": "[encoded data removed]",
       "text": [
        "<matplotlib.figure.Figure at 0x7f08b1058e10>"
       ]
      }
     ],
     "prompt_number": 6
    },
    {
     "cell_type": "markdown",
     "metadata": {},
     "source": [
      "Since the moment has been stable since roughly 50 ns, the orientation does not change."
     ]
    },
    {
     "cell_type": "markdown",
     "metadata": {},
     "source": [
      "## Resetting the kernel ##\n",
      "The kernel can be reset to use its initial conditions with the `reset` method. The simulations are re-started from $t=0$."
     ]
    },
    {
     "cell_type": "code",
     "collapsed": false,
     "input": [
      "kernel.reset()\n",
      "times3, moments3 = kernel.run(time=1e-6)\n",
      "plt.plot(times3, moments3[:,0], label='x')\n",
      "plt.plot(times3, moments3[:,1], label='y')\n",
      "plt.plot(times3, moments3[:,2], label='z')\n",
      "plt.ylim(-1.1, 1.1)\n",
      "plt.ylabel(\"M/Ms\")\n",
      "plt.xlabel(\"Time (sec)\")\n",
      "plt.legend()\n",
      "plt.show()"
     ],
     "language": "python",
     "metadata": {},
     "outputs": [
      {
       "metadata": {},
       "output_type": "display_data",
       "png": "[encoded data removed]",
       "text": [
        "<matplotlib.figure.Figure at 0x7f08b0edc210>"
       ]
      }
     ],
     "prompt_number": 7
    },
    {
     "cell_type": "markdown",
     "metadata": {},
     "source": [
      "## Running the stabilize method ##\n",
      "When the moment orientation in equilibrium is of more interest than the time dependent behavior of the moment, the `stabilize` method can be used to run the simulation until the orientation has stabilized. Stability is measured by the magnitude of the cross product of the moment with a previous moment, `internal_steps` (usually 250) timesteps behind the current moment. The default threshold is `5e-3`, which has been found experimentally to work well."
     ]
    },
    {
     "cell_type": "code",
     "collapsed": false,
     "input": [
      "kernel.reset()\n",
      "kernel.stabilize(threshold=5e-3)"
     ],
     "language": "python",
     "metadata": {},
     "outputs": [
      {
       "ename": "AttributeError",
       "evalue": "'macrospin.kernels.BasicKernel' object has no attribute 'stabilize'",
       "output_type": "pyerr",
       "traceback": [
        "\u001b[1;31m---------------------------------------------------------------------------\u001b[0m\n\u001b[1;31mAttributeError\u001b[0m                            Traceback (most recent call last)",
        "\u001b[1;32m<ipython-input-8-3dec3e467011>\u001b[0m in \u001b[0;36m<module>\u001b[1;34m()\u001b[0m\n\u001b[0;32m      1\u001b[0m \u001b[0mkernel\u001b[0m\u001b[1;33m.\u001b[0m\u001b[0mreset\u001b[0m\u001b[1;33m(\u001b[0m\u001b[1;33m)\u001b[0m\u001b[1;33m\u001b[0m\u001b[0m\n\u001b[1;32m----> 2\u001b[1;33m \u001b[0mkernel\u001b[0m\u001b[1;33m.\u001b[0m\u001b[0mstabilize\u001b[0m\u001b[1;33m(\u001b[0m\u001b[0mthreshold\u001b[0m\u001b[1;33m=\u001b[0m\u001b[1;36m5e-3\u001b[0m\u001b[1;33m)\u001b[0m\u001b[1;33m\u001b[0m\u001b[0m\n\u001b[0m",
        "\u001b[1;31mAttributeError\u001b[0m: 'macrospin.kernels.BasicKernel' object has no attribute 'stabilize'"
       ]
      }
     ],
     "prompt_number": 8
    },
    {
     "cell_type": "code",
     "collapsed": false,
     "input": [
      "kernel.m"
     ],
     "language": "python",
     "metadata": {},
     "outputs": [
      {
       "metadata": {},
       "output_type": "pyout",
       "prompt_number": 7,
       "text": [
        "array([ -2.60092388e-03,   9.99996364e-01,  -7.17876654e-04], dtype=float32)"
       ]
      }
     ],
     "prompt_number": 7
    },
    {
     "cell_type": "markdown",
     "metadata": {},
     "source": [
      "The kernel moment is observed to point along the $\\hat{y}$ direction."
     ]
    },
    {
     "cell_type": "code",
     "collapsed": false,
     "input": [
      "kernel.t_sec"
     ],
     "language": "python",
     "metadata": {},
     "outputs": [
      {
       "metadata": {},
       "output_type": "pyout",
       "prompt_number": 8,
       "text": [
        "6.22499974048702e-08"
       ]
      }
     ],
     "prompt_number": 8
    },
    {
     "cell_type": "markdown",
     "metadata": {},
     "source": [
      "Stability has been achieved at $t=62.2$ ns."
     ]
    },
    {
     "cell_type": "code",
     "collapsed": false,
     "input": [],
     "language": "python",
     "metadata": {},
     "outputs": [],
     "prompt_number": 8
    }
   ],
   "metadata": {}
  }
 ]
}