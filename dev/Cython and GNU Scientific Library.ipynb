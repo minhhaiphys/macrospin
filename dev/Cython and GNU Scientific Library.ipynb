{
 "metadata": {
  "name": "",
  "signature": "sha256:5f7bebd8dedc2b862132bfe3cdd4f8aa3464ee7df3b4b363ed8cfa2ccf3c8566"
 },
 "nbformat": 3,
 "nbformat_minor": 0,
 "worksheets": [
  {
   "cells": [
    {
     "cell_type": "code",
     "collapsed": false,
     "input": [
      "%load_ext cythonmagic"
     ],
     "language": "python",
     "metadata": {},
     "outputs": [],
     "prompt_number": 2
    },
    {
     "cell_type": "markdown",
     "metadata": {},
     "source": [
      "# Cython and the GNU Scientific Library #\n",
      "\n",
      "The GNU Scientific Library (GSL) is a C library that holds a number of function, which have significant overlap with `scipy`. The advantage of GSL is that its functions can be called from Cython without Python overhead.\n",
      "\n",
      "The header files are installed on Debian-based systems by:\n",
      "\n",
      "```bash\n",
      "sudo apt-get install libgsl0-dev\n",
      "```"
     ]
    },
    {
     "cell_type": "code",
     "collapsed": false,
     "input": [
      "%%cython -lgsl\n",
      "\n",
      "cimport cython\n",
      "\n",
      "cdef extern from \"gsl/gsl_const_cgsm.h\":\n",
      "    float GSL_CONST_CGSM_SPEED_OF_LIGHT\n",
      "    \n",
      "def hello_gsl():\n",
      "    return GSL_CONST_CGSM_SPEED_OF_LIGHT"
     ],
     "language": "python",
     "metadata": {},
     "outputs": [],
     "prompt_number": 8
    },
    {
     "cell_type": "code",
     "collapsed": false,
     "input": [
      "hello_gsl()"
     ],
     "language": "python",
     "metadata": {},
     "outputs": [
      {
       "metadata": {},
       "output_type": "pyout",
       "prompt_number": 4,
       "text": [
        "29979245800.0"
       ]
      }
     ],
     "prompt_number": 4
    }
   ],
   "metadata": {}
  }
 ]
}