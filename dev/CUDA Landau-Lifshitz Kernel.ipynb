{
 "metadata": {
  "name": "",
  "signature": "sha256:8302d7a9a26975e94def150d15cf90658747da11a1230c77d7d1bd122e1d2d96"
 },
 "nbformat": 3,
 "nbformat_minor": 0,
 "worksheets": [
  {
   "cells": [
    {
     "cell_type": "markdown",
     "metadata": {},
     "source": [
      "# CUDA Landau-Lifshitz Kernel #"
     ]
    },
    {
     "cell_type": "markdown",
     "metadata": {},
     "source": [
      "Verify you have a NVIDIA card.\n",
      "\n",
      "```bash\n",
      "lspci | grep -i nvidia\n",
      "```\n",
      "\n",
      "Get the latest production release of CUDA.\n",
      "\n",
      "https://developer.nvidia.com/cuda-downloads\n",
      "\n",
      "```bash\n",
      "sudo dpkg -i cuda-repo-ubuntu1404_6.5-14_amd64.deb \n",
      "sudo apt-get update \n",
      "sudo apt-get install cuda\n",
      "```\n",
      "Add CUDA path to .zshrc.\n",
      "\n",
      "```bash\n",
      "export PATH=/usr/local/cuda-6.5/bin:$PATH\n",
      "export LD_LIBRARY_PATH=/usr/local/cuda-6.5/lib64:$LD_LIBRARY_PATH\n",
      "```\n",
      "\n",
      "Install `nvidia-cuda-toolkit` before installing `pycuda`.\n",
      "\n",
      "```bash\n",
      "sudo pip install pycuda\n",
      "```\n",
      "\n",
      "\n",
      "Ignore any warning about not running the configure file, as the package will still be installed."
     ]
    },
    {
     "cell_type": "code",
     "collapsed": false,
     "input": [
      "import numpy as np\n",
      "from macrospin.cuda import CUDAKernel"
     ],
     "language": "python",
     "metadata": {},
     "outputs": [],
     "prompt_number": 1
    },
    {
     "cell_type": "code",
     "collapsed": false,
     "input": [
      "kernel = CUDAKernel(\n",
      "    Ms=197.0,\n",
      "    damping=1e-3,\n",
      "    threads=100, blocks=100\n",
      ")"
     ],
     "language": "python",
     "metadata": {},
     "outputs": [],
     "prompt_number": 2
    },
    {
     "cell_type": "code",
     "collapsed": false,
     "input": [
      "kernel.index_operations(\"\"\"\n",
      "  Jc.x = Jc.x + {minJ} + {dJ}*float(blockIdx.x);\n",
      "  heff.y = heff.y + {minH} + {dH}*float(threadIdx.x);\n",
      "\"\"\".format(minJ=0, dJ=0.1, minH=0, dH=0.1))\n",
      "\n",
      "kernel.static_field(0, 0, -5) # Oe\n",
      "kernel.demagnetization(0, 0, 4*np.pi)\n",
      "\n",
      "kernel.initial_moments([-0.999, 0.001, 0.001])"
     ],
     "language": "python",
     "metadata": {},
     "outputs": [],
     "prompt_number": 3
    },
    {
     "cell_type": "code",
     "collapsed": false,
     "input": [
      "print kernel.render()"
     ],
     "language": "python",
     "metadata": {},
     "outputs": [
      {
       "output_type": "stream",
       "stream": "stdout",
       "text": [
        "#ifdef __CDT_PARSER__\n",
        "#define __global__\n",
        "#define __device__\n",
        "#define __shared__\n",
        "#endif\n",
        "\n",
        "#include <stdio.h>\n",
        "#include <pycuda-complex.hpp>\n",
        "\n",
        "// ============================================================\n",
        "//                      Helper Functions\n",
        "// ============================================================\n",
        "inline __device__ float4 cross(float4 left, float4 right) {\n",
        "  return make_float4(left.y*right.z - left.z*right.y,\n",
        "\t\t     left.z*right.x - left.x*right.z,\n",
        "\t\t     left.x*right.y - left.y*right.x,\n",
        "\t\t     0.0f);\n",
        "}\n",
        "inline __device__ float4 operator+(float4 a, float4 b) {\n",
        "  return make_float4(a.x+b.x, a.y+b.y, a.z+b.z, 0.0f);\n",
        "}\n",
        "inline __device__ float4 mult(float4 a, float4 b) {\n",
        "  return make_float4(a.x*b.x, a.y*b.y, a.z*b.z, 0.0f);\n",
        "}\n",
        "inline __device__ float4 operator-(float4 a, float4 b) {\n",
        "  return make_float4(a.x-b.x, a.y-b.y, a.z-b.z, 0.0f);\n",
        "}\n",
        "inline __device__ float4 operator*(float b, float4 a) {\n",
        "  return make_float4(a.x*b, a.y*b, a.z*b, 0.0f);\n",
        "}\n",
        "inline __device__ float magInv(float4 a) {\n",
        "  return rsqrtf(a.x*a.x + a.y*a.y + a.z*a.z);\n",
        "}\n",
        "\n",
        "// ============================================================\n",
        "//                      Physics Code\n",
        "// ============================================================\n",
        "\n",
        "__global__ void evolve(float4 *m) {\n",
        "\n",
        "\n",
        "\t\tconst int i = blockIdx.x*blockDim.x + threadIdx.x;\n",
        "\n",
        "\t\t// Moment being operated on\n",
        "\t\tfloat4 mloc = m[i];\n",
        "\t\tfloat4 heff = make_float4(0.0f, 0.0f, 0.0f, 0.0f);\n",
        "\t\t\n",
        "\n",
        "\n",
        "\n",
        "\t\theff = heff + make_float4(0.0f, 0.0f, -5.0f, 0.0f);\n",
        "\t\t\n",
        "\n",
        "\t\tconst float4 N = make_float4(0.0f, 0.0f, 12.5663709641f, 0.0f);\n",
        "  \t\theff = heff - mult(mloc, N);\n",
        "\t\t\n",
        "\n",
        "\n",
        "\n",
        "  // Start Landau-Lifshitz equation\n",
        "  float4 hxm = cross(heff, mloc);\n",
        "\n",
        "\n",
        "\n",
        "  float4 mxhxm =  cross(mloc, hxm);\n",
        "\n",
        "  // Compute new moment\n",
        "  m[i] = mloc + 5e-13*(hxm + 0.001*mxhxm);\n",
        "}\n",
        "\n",
        "__global__ void normalize(float4 *m) {\n",
        "  const int i = blockIdx.x*blockDim.x + threadIdx.x;\n",
        "  \n",
        "  float4 mloc = m[i];\n",
        "  m[i] = magInv(mloc)*mloc;\n",
        "}\n"
       ]
      }
     ],
     "prompt_number": 4
    },
    {
     "cell_type": "code",
     "collapsed": false,
     "input": [
      "kernel.compile()"
     ],
     "language": "python",
     "metadata": {},
     "outputs": [],
     "prompt_number": 5
    },
    {
     "cell_type": "code",
     "collapsed": false,
     "input": [
      "next(kernel.generator())"
     ],
     "language": "python",
     "metadata": {},
     "outputs": [
      {
       "ename": "AttributeError",
       "evalue": "'CUDAKernel' object has no attribute 'callback'",
       "output_type": "pyerr",
       "traceback": [
        "\u001b[1;31m---------------------------------------------------------------------------\u001b[0m\n\u001b[1;31mAttributeError\u001b[0m                            Traceback (most recent call last)",
        "\u001b[1;32m<ipython-input-6-d0fc6df44fd9>\u001b[0m in \u001b[0;36m<module>\u001b[1;34m()\u001b[0m\n\u001b[1;32m----> 1\u001b[1;33m \u001b[0mnext\u001b[0m\u001b[1;33m(\u001b[0m\u001b[0mkernel\u001b[0m\u001b[1;33m.\u001b[0m\u001b[0mgenerator\u001b[0m\u001b[1;33m(\u001b[0m\u001b[1;33m)\u001b[0m\u001b[1;33m)\u001b[0m\u001b[1;33m\u001b[0m\u001b[0m\n\u001b[0m",
        "\u001b[1;32m/home/colin/.venv/lib/python2.7/site-packages/macrospin/cuda.pyc\u001b[0m in \u001b[0;36mgenerator\u001b[1;34m(self)\u001b[0m\n\u001b[0;32m     99\u001b[0m                         \u001b[1;32mif\u001b[0m \u001b[0mself\u001b[0m\u001b[1;33m.\u001b[0m\u001b[0m_i\u001b[0m \u001b[1;33m%\u001b[0m \u001b[1;36m10\u001b[0m \u001b[1;33m==\u001b[0m \u001b[1;36m0\u001b[0m\u001b[1;33m:\u001b[0m\u001b[1;33m\u001b[0m\u001b[0m\n\u001b[0;32m    100\u001b[0m                                 \u001b[0mself\u001b[0m\u001b[1;33m.\u001b[0m\u001b[0mmoments\u001b[0m \u001b[1;33m=\u001b[0m \u001b[0mself\u001b[0m\u001b[1;33m.\u001b[0m\u001b[0mgpu_moments\u001b[0m\u001b[1;33m.\u001b[0m\u001b[0mget\u001b[0m\u001b[1;33m(\u001b[0m\u001b[1;33m)\u001b[0m\u001b[1;33m\u001b[0m\u001b[0m\n\u001b[1;32m--> 101\u001b[1;33m                                 \u001b[0mself\u001b[0m\u001b[1;33m.\u001b[0m\u001b[0mcallback\u001b[0m\u001b[1;33m(\u001b[0m\u001b[0mself\u001b[0m\u001b[1;33m.\u001b[0m\u001b[0mmoments\u001b[0m\u001b[1;33m,\u001b[0m \u001b[0mself\u001b[0m\u001b[1;33m.\u001b[0m\u001b[0mtimestep\u001b[0m\u001b[1;33m*\u001b[0m\u001b[0mself\u001b[0m\u001b[1;33m.\u001b[0m\u001b[0m_i\u001b[0m\u001b[1;33m*\u001b[0m\u001b[1;36m250.0\u001b[0m\u001b[1;33m)\u001b[0m\u001b[1;33m\u001b[0m\u001b[0m\n\u001b[0m\u001b[0;32m    102\u001b[0m                         \u001b[0mself\u001b[0m\u001b[1;33m.\u001b[0m\u001b[0m_i\u001b[0m \u001b[1;33m+=\u001b[0m \u001b[1;36m1\u001b[0m\u001b[1;33m\u001b[0m\u001b[0m\n\u001b[0;32m    103\u001b[0m                         \u001b[1;32myield\u001b[0m\u001b[1;33m\u001b[0m\u001b[0m\n",
        "\u001b[1;31mAttributeError\u001b[0m: 'CUDAKernel' object has no attribute 'callback'"
       ]
      }
     ],
     "prompt_number": 6
    },
    {
     "cell_type": "code",
     "collapsed": false,
     "input": [],
     "language": "python",
     "metadata": {},
     "outputs": []
    }
   ],
   "metadata": {}
  }
 ]
}